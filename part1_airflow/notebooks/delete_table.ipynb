{
 "cells": [
  {
   "cell_type": "markdown",
   "metadata": {},
   "source": [
    "Перед запуском убедитесь, что в корне проекта есть файл .env и в нем заполнены выданные вам креды подключения к базам данных и хранилищу"
   ]
  },
  {
   "cell_type": "code",
   "execution_count": 2,
   "metadata": {},
   "outputs": [],
   "source": [
    "%load_ext autoreload\n",
    "%autoreload 2"
   ]
  },
  {
   "cell_type": "code",
   "execution_count": 1,
   "metadata": {},
   "outputs": [],
   "source": [
    "import os\n",
    "import pandas as pd\n",
    "from dotenv import load_dotenv, find_dotenv\n",
    "from sqlalchemy import create_engine, MetaData, Table\n"
   ]
  },
  {
   "cell_type": "code",
   "execution_count": 2,
   "metadata": {},
   "outputs": [
    {
     "data": {
      "text/plain": [
       "True"
      ]
     },
     "execution_count": 2,
     "metadata": {},
     "output_type": "execute_result"
    }
   ],
   "source": [
    "# подгружаем .env\n",
    "load_dotenv()"
   ]
  },
  {
   "cell_type": "code",
   "execution_count": 3,
   "metadata": {},
   "outputs": [],
   "source": [
    "# Считываем все креды\n",
    "src_host = os.environ.get('DB_SOURCE_HOST')\n",
    "src_port = os.environ.get('DB_SOURCE_PORT')\n",
    "src_username = os.environ.get('DB_SOURCE_USER')\n",
    "src_password = os.environ.get('DB_SOURCE_PASSWORD')\n",
    "src_db = os.environ.get('DB_SOURCE_NAME') \n",
    "\n",
    "dst_host = os.environ.get('DB_DESTINATION_HOST')\n",
    "dst_port = os.environ.get('DB_DESTINATION_PORT')\n",
    "dst_username = os.environ.get('DB_DESTINATION_USER')\n",
    "dst_password = os.environ.get('DB_DESTINATION_PASSWORD')\n",
    "dst_db = os.environ.get('DB_DESTINATION_NAME')\n",
    "\n",
    "s3_bucket = os.environ.get('S3_BUCKET_NAME')\n",
    "s3_access_key = os.environ.get('AWS_ACCESS_KEY_ID')\n",
    "s3_secret_access_key = os.environ.get('AWS_SECRET_ACCESS_KEY')\n",
    "\n",
    "mle_tlg_token = os.environ.get('MLE_TELEGRAM_TOKEN')\n",
    "mle_tlg_chat_id = os.environ.get('MLE_TELEGRAM_CHAT_ID')"
   ]
  },
  {
   "cell_type": "code",
   "execution_count": 4,
   "metadata": {},
   "outputs": [],
   "source": [
    "# Создадим соединения\n",
    "# src_conn = create_engine(f'postgresql://{src_username}:{src_password}@{src_host}:{src_port}/{src_db}')\n",
    "dst_conn = create_engine(f'postgresql://{dst_username}:{dst_password}@{dst_host}:{dst_port}/{dst_db}')"
   ]
  },
  {
   "cell_type": "code",
   "execution_count": 5,
   "metadata": {},
   "outputs": [],
   "source": [
    "# Укажем таблицу для удаления\n",
    "TABLE_NAME = 'merged_flats_dataset'"
   ]
  },
  {
   "cell_type": "code",
   "execution_count": null,
   "metadata": {},
   "outputs": [],
   "source": [
    "# Закроем соединения в конце работы\n",
    "#src_conn.dispose()\n",
    "dst_conn.dispose()"
   ]
  },
  {
   "cell_type": "code",
   "execution_count": 7,
   "metadata": {},
   "outputs": [
    {
     "name": "stdout",
     "output_type": "stream",
     "text": [
      "Таблица merged_flats_dataset не существует\n",
      "Таблица merged_flats_dataset существует: False\n",
      "Соединение с базой закрыто\n"
     ]
    }
   ],
   "source": [
    "from sqlalchemy import inspect\n",
    "\n",
    "# Удаление таблицы\n",
    "def drop_table(table_name: str, engine):\n",
    "    try:\n",
    "        # Создаем объект метаданных\n",
    "        metadata = MetaData()\n",
    "\n",
    "        # Получаем информацию о таблице\n",
    "        inspector = inspect(engine)\n",
    "        if inspector.has_table(table_name):\n",
    "            # Если таблица существует - удаляем\n",
    "            table = Table(table_name, metadata, autoload_with=engine)\n",
    "            table.drop(engine)\n",
    "            print(f\"Таблица {table_name} успешно удалена\")\n",
    "        else:\n",
    "            print(f\"Таблица {table_name} не существует\")\n",
    "            \n",
    "    except Exception as e:\n",
    "        print(f\"Ошибка при удалении таблицы: {str(e)}\")\n",
    "        raise\n",
    "\n",
    "# Проверка существования таблицы\n",
    "def check_table_existence(table_name: str, engine):\n",
    "    inspector = inspect(engine)\n",
    "    exists = inspector.has_table(table_name)\n",
    "    print(f\"Таблица {table_name} существует: {exists}\")\n",
    "    return exists\n",
    "\n",
    "# Выполнение операций\n",
    "try:\n",
    "    # Удаление таблицы\n",
    "    drop_table(TABLE_NAME, dst_conn)\n",
    "    \n",
    "    # Проверка удаления\n",
    "    check_table_existence(TABLE_NAME, dst_conn)\n",
    "\n",
    "except Exception as e:\n",
    "    print(f\"Произошла ошибка: {str(e)}\")\n",
    "finally:\n",
    "    # Закрытие соединения\n",
    "    dst_conn.dispose()\n",
    "    print(\"Соединение с базой закрыто\")"
   ]
  }
 ],
 "metadata": {
  "kernelspec": {
   "display_name": ".venv_1sprint_project",
   "language": "python",
   "name": "python3"
  },
  "language_info": {
   "codemirror_mode": {
    "name": "ipython",
    "version": 3
   },
   "file_extension": ".py",
   "mimetype": "text/x-python",
   "name": "python",
   "nbconvert_exporter": "python",
   "pygments_lexer": "ipython3",
   "version": "3.10.12"
  }
 },
 "nbformat": 4,
 "nbformat_minor": 2
}
